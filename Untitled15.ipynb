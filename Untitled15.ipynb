{
  "nbformat": 4,
  "nbformat_minor": 0,
  "metadata": {
    "colab": {
      "provenance": [],
      "gpuType": "T4",
      "authorship_tag": "ABX9TyNKcyrRGCW7CqSo9mIjhpVn",
      "include_colab_link": true
    },
    "kernelspec": {
      "name": "python3",
      "display_name": "Python 3"
    },
    "language_info": {
      "name": "python"
    },
    "accelerator": "GPU"
  },
  "cells": [
    {
      "cell_type": "markdown",
      "metadata": {
        "id": "view-in-github",
        "colab_type": "text"
      },
      "source": [
        "<a href=\"https://colab.research.google.com/github/Cyanex1702/Fashion-vr-/blob/main/Untitled15.ipynb\" target=\"_parent\"><img src=\"https://colab.research.google.com/assets/colab-badge.svg\" alt=\"Open In Colab\"/></a>"
      ]
    },
    {
      "cell_type": "code",
      "source": [
        "!git clone https://github.com/ovshake/stable-fashion.git\n",
        "!pip install -r stable-fashion/requirements.txt\n",
        "!git clone https://huggingface.co/maiti/cloth-segmentation\n",
        "\n"
      ],
      "metadata": {
        "colab": {
          "base_uri": "https://localhost:8080/"
        },
        "collapsed": true,
        "id": "TK209aK6Vv7m",
        "outputId": "22f0e736-fa7d-4d26-f2d1-1d1b61c3f494"
      },
      "execution_count": 2,
      "outputs": [
        {
          "output_type": "stream",
          "name": "stdout",
          "text": [
            "Cloning into 'stable-fashion'...\n",
            "remote: Enumerating objects: 1078, done.\u001b[K\n",
            "remote: Counting objects: 100% (1078/1078), done.\u001b[K\n",
            "remote: Compressing objects: 100% (879/879), done.\u001b[K\n",
            "remote: Total 1078 (delta 166), reused 1057 (delta 152), pack-reused 0\u001b[K\n",
            "Receiving objects: 100% (1078/1078), 34.89 MiB | 26.48 MiB/s, done.\n",
            "Resolving deltas: 100% (166/166), done.\n",
            "Collecting clip@ git+https://github.com/openai/CLIP.git@d50d76daa670286dd6cacf3bcd80b5e4823fc8e1 (from -r stable-fashion/requirements.txt (line 13))\n",
            "  Cloning https://github.com/openai/CLIP.git (to revision d50d76daa670286dd6cacf3bcd80b5e4823fc8e1) to /tmp/pip-install-mo6otjuo/clip_f46c18d6273a40be9cd5471399acf3dc\n",
            "  Running command git clone --filter=blob:none --quiet https://github.com/openai/CLIP.git /tmp/pip-install-mo6otjuo/clip_f46c18d6273a40be9cd5471399acf3dc\n",
            "  Running command git rev-parse -q --verify 'sha^d50d76daa670286dd6cacf3bcd80b5e4823fc8e1'\n",
            "  Running command git fetch -q https://github.com/openai/CLIP.git d50d76daa670286dd6cacf3bcd80b5e4823fc8e1\n",
            "  Running command git checkout -q d50d76daa670286dd6cacf3bcd80b5e4823fc8e1\n",
            "  Resolved https://github.com/openai/CLIP.git to commit d50d76daa670286dd6cacf3bcd80b5e4823fc8e1\n",
            "  Preparing metadata (setup.py) ... \u001b[?25l\u001b[?25hdone\n",
            "Collecting diffusers@ git+https://github.com/ovshake/diffusers@5bbecb751764248755943b57d900ae14a7f43a75 (from -r stable-fashion/requirements.txt (line 16))\n",
            "  Cloning https://github.com/ovshake/diffusers (to revision 5bbecb751764248755943b57d900ae14a7f43a75) to /tmp/pip-install-mo6otjuo/diffusers_e54cc1528fe94876b9958dd36e017288\n",
            "  Running command git clone --filter=blob:none --quiet https://github.com/ovshake/diffusers /tmp/pip-install-mo6otjuo/diffusers_e54cc1528fe94876b9958dd36e017288\n",
            "  Running command git rev-parse -q --verify 'sha^5bbecb751764248755943b57d900ae14a7f43a75'\n",
            "  Running command git fetch -q https://github.com/ovshake/diffusers 5bbecb751764248755943b57d900ae14a7f43a75\n",
            "  Running command git checkout -q 5bbecb751764248755943b57d900ae14a7f43a75\n",
            "  Resolved https://github.com/ovshake/diffusers to commit 5bbecb751764248755943b57d900ae14a7f43a75\n",
            "  Installing build dependencies ... \u001b[?25l\u001b[?25hdone\n",
            "  Getting requirements to build wheel ... \u001b[?25l\u001b[?25hdone\n",
            "  Preparing metadata (pyproject.toml) ... \u001b[?25l\u001b[?25hdone\n",
            "Collecting rembg@ git+https://github.com/ovshake/rembg@cf2120a940cfc56ae25bf1ecfb08769a0e22ad4b (from -r stable-fashion/requirements.txt (line 91))\n",
            "  Cloning https://github.com/ovshake/rembg (to revision cf2120a940cfc56ae25bf1ecfb08769a0e22ad4b) to /tmp/pip-install-mo6otjuo/rembg_df15128b1ada4e5d9728298ad01a1617\n",
            "  Running command git clone --filter=blob:none --quiet https://github.com/ovshake/rembg /tmp/pip-install-mo6otjuo/rembg_df15128b1ada4e5d9728298ad01a1617\n",
            "  Running command git rev-parse -q --verify 'sha^cf2120a940cfc56ae25bf1ecfb08769a0e22ad4b'\n",
            "  Running command git fetch -q https://github.com/ovshake/rembg cf2120a940cfc56ae25bf1ecfb08769a0e22ad4b\n",
            "  Resolved https://github.com/ovshake/rembg to commit cf2120a940cfc56ae25bf1ecfb08769a0e22ad4b\n",
            "  Installing build dependencies ... \u001b[?25l\u001b[?25hdone\n",
            "  Getting requirements to build wheel ... \u001b[?25l\u001b[?25hdone\n",
            "  Preparing metadata (pyproject.toml) ... \u001b[?25l\u001b[?25hdone\n",
            "Collecting absl-py==1.2.0 (from -r stable-fashion/requirements.txt (line 1))\n",
            "  Downloading absl_py-1.2.0-py3-none-any.whl.metadata (2.3 kB)\n",
            "Collecting accelerate==0.12.0 (from -r stable-fashion/requirements.txt (line 2))\n",
            "  Downloading accelerate-0.12.0-py3-none-any.whl.metadata (15 kB)\n",
            "Collecting aiohttp==3.8.1 (from -r stable-fashion/requirements.txt (line 3))\n",
            "  Downloading aiohttp-3.8.1-cp310-cp310-manylinux_2_5_x86_64.manylinux1_x86_64.manylinux_2_12_x86_64.manylinux2010_x86_64.whl.metadata (7.3 kB)\n",
            "Collecting aiosignal==1.2.0 (from -r stable-fashion/requirements.txt (line 4))\n",
            "  Downloading aiosignal-1.2.0-py3-none-any.whl.metadata (5.5 kB)\n",
            "Collecting asttokens==2.0.8 (from -r stable-fashion/requirements.txt (line 5))\n",
            "  Downloading asttokens-2.0.8-py2.py3-none-any.whl.metadata (4.8 kB)\n",
            "Collecting async-timeout==4.0.2 (from -r stable-fashion/requirements.txt (line 6))\n",
            "  Downloading async_timeout-4.0.2-py3-none-any.whl.metadata (4.2 kB)\n",
            "Collecting attrs==22.1.0 (from -r stable-fashion/requirements.txt (line 7))\n",
            "  Downloading attrs-22.1.0-py2.py3-none-any.whl.metadata (11 kB)\n",
            "Requirement already satisfied: backcall==0.2.0 in /usr/local/lib/python3.10/dist-packages (from -r stable-fashion/requirements.txt (line 8)) (0.2.0)\n",
            "Collecting beautifulsoup4==4.11.1 (from -r stable-fashion/requirements.txt (line 9))\n",
            "  Downloading beautifulsoup4-4.11.1-py3-none-any.whl.metadata (3.5 kB)\n",
            "Collecting bitsandbytes==0.33.1 (from -r stable-fashion/requirements.txt (line 10))\n",
            "  Downloading bitsandbytes-0.33.1-py3-none-any.whl.metadata (7.4 kB)\n",
            "Collecting cachetools==5.2.0 (from -r stable-fashion/requirements.txt (line 11))\n",
            "  Downloading cachetools-5.2.0-py3-none-any.whl.metadata (5.1 kB)\n",
            "Collecting charset-normalizer==2.1.1 (from -r stable-fashion/requirements.txt (line 12))\n",
            "  Downloading charset_normalizer-2.1.1-py3-none-any.whl.metadata (11 kB)\n",
            "Collecting datasets==2.4.0 (from -r stable-fashion/requirements.txt (line 14))\n",
            "  Downloading datasets-2.4.0-py3-none-any.whl.metadata (20 kB)\n",
            "Collecting decorator==5.1.1 (from -r stable-fashion/requirements.txt (line 15))\n",
            "  Downloading decorator-5.1.1-py3-none-any.whl.metadata (4.0 kB)\n",
            "Collecting dill==0.3.5.1 (from -r stable-fashion/requirements.txt (line 17))\n",
            "  Downloading dill-0.3.5.1-py2.py3-none-any.whl.metadata (9.7 kB)\n",
            "Collecting executing==1.0.0 (from -r stable-fashion/requirements.txt (line 18))\n",
            "  Downloading executing-1.0.0-py2.py3-none-any.whl.metadata (8.6 kB)\n",
            "Collecting filelock==3.8.0 (from -r stable-fashion/requirements.txt (line 19))\n",
            "  Downloading filelock-3.8.0-py3-none-any.whl.metadata (2.3 kB)\n",
            "Collecting frozenlist==1.3.1 (from -r stable-fashion/requirements.txt (line 20))\n",
            "  Downloading frozenlist-1.3.1-cp310-cp310-manylinux_2_5_x86_64.manylinux1_x86_64.manylinux_2_17_x86_64.manylinux2014_x86_64.whl.metadata (4.7 kB)\n",
            "Collecting fsspec==2022.8.2 (from -r stable-fashion/requirements.txt (line 21))\n",
            "  Downloading fsspec-2022.8.2-py3-none-any.whl.metadata (5.6 kB)\n",
            "Collecting ftfy==6.1.1 (from -r stable-fashion/requirements.txt (line 22))\n",
            "  Downloading ftfy-6.1.1-py3-none-any.whl.metadata (6.1 kB)\n",
            "Collecting gdown==4.5.1 (from -r stable-fashion/requirements.txt (line 23))\n",
            "  Downloading gdown-4.5.1.tar.gz (14 kB)\n",
            "  Installing build dependencies ... \u001b[?25l\u001b[?25hdone\n",
            "  Getting requirements to build wheel ... \u001b[?25l\u001b[?25hdone\n",
            "  Preparing metadata (pyproject.toml) ... \u001b[?25l\u001b[?25hdone\n",
            "Collecting google-auth==2.11.0 (from -r stable-fashion/requirements.txt (line 24))\n",
            "  Downloading google_auth-2.11.0-py2.py3-none-any.whl.metadata (3.8 kB)\n",
            "Collecting google-auth-oauthlib==0.4.6 (from -r stable-fashion/requirements.txt (line 25))\n",
            "  Downloading google_auth_oauthlib-0.4.6-py2.py3-none-any.whl.metadata (2.7 kB)\n",
            "Collecting grpcio==1.47.0 (from -r stable-fashion/requirements.txt (line 26))\n",
            "  Downloading grpcio-1.47.0-cp310-cp310-manylinux_2_17_x86_64.manylinux2014_x86_64.whl.metadata (4.0 kB)\n",
            "Collecting huggingface-hub==0.11.0 (from -r stable-fashion/requirements.txt (line 27))\n",
            "  Downloading huggingface_hub-0.11.0-py3-none-any.whl.metadata (7.5 kB)\n",
            "Collecting idna==3.3 (from -r stable-fashion/requirements.txt (line 28))\n",
            "  Downloading idna-3.3-py3-none-any.whl.metadata (9.8 kB)\n",
            "Collecting importlib-metadata==4.12.0 (from -r stable-fashion/requirements.txt (line 29))\n",
            "  Downloading importlib_metadata-4.12.0-py3-none-any.whl.metadata (4.0 kB)\n",
            "Collecting ipdb==0.13.9 (from -r stable-fashion/requirements.txt (line 30))\n",
            "  Downloading ipdb-0.13.9.tar.gz (16 kB)\n",
            "  Preparing metadata (setup.py) ... \u001b[?25l\u001b[?25hdone\n",
            "Collecting ipython==8.4.0 (from -r stable-fashion/requirements.txt (line 31))\n",
            "  Downloading ipython-8.4.0-py3-none-any.whl.metadata (4.9 kB)\n",
            "Collecting jedi==0.18.1 (from -r stable-fashion/requirements.txt (line 32))\n",
            "  Downloading jedi-0.18.1-py2.py3-none-any.whl.metadata (20 kB)\n",
            "Collecting Jinja2==3.1.2 (from -r stable-fashion/requirements.txt (line 33))\n",
            "  Downloading Jinja2-3.1.2-py3-none-any.whl.metadata (3.5 kB)\n",
            "Collecting joblib==1.1.0 (from -r stable-fashion/requirements.txt (line 34))\n",
            "  Downloading joblib-1.1.0-py2.py3-none-any.whl.metadata (5.2 kB)\n",
            "Collecting Markdown==3.4.1 (from -r stable-fashion/requirements.txt (line 35))\n",
            "  Downloading Markdown-3.4.1-py3-none-any.whl.metadata (4.6 kB)\n",
            "Collecting MarkupSafe==2.1.1 (from -r stable-fashion/requirements.txt (line 36))\n",
            "  Downloading MarkupSafe-2.1.1-cp310-cp310-manylinux_2_17_x86_64.manylinux2014_x86_64.whl.metadata (3.2 kB)\n",
            "Collecting matplotlib-inline==0.1.6 (from -r stable-fashion/requirements.txt (line 37))\n",
            "  Downloading matplotlib_inline-0.1.6-py3-none-any.whl.metadata (2.8 kB)\n",
            "Collecting modelcards==0.1.6 (from -r stable-fashion/requirements.txt (line 38))\n",
            "  Downloading modelcards-0.1.6-py3-none-any.whl.metadata (350 bytes)\n",
            "Collecting multidict==6.0.2 (from -r stable-fashion/requirements.txt (line 39))\n",
            "  Downloading multidict-6.0.2-cp310-cp310-manylinux_2_17_x86_64.manylinux2014_x86_64.whl.metadata (4.1 kB)\n",
            "Collecting multiprocess==0.70.13 (from -r stable-fashion/requirements.txt (line 40))\n",
            "  Downloading multiprocess-0.70.13-py310-none-any.whl.metadata (6.8 kB)\n",
            "Collecting numpy==1.23.2 (from -r stable-fashion/requirements.txt (line 41))\n",
            "  Downloading numpy-1.23.2-cp310-cp310-manylinux_2_17_x86_64.manylinux2014_x86_64.whl.metadata (2.2 kB)\n",
            "Collecting oauthlib==3.2.0 (from -r stable-fashion/requirements.txt (line 42))\n",
            "  Downloading oauthlib-3.2.0-py3-none-any.whl.metadata (7.4 kB)\n",
            "Collecting opencv-python==4.6.0.66 (from -r stable-fashion/requirements.txt (line 43))\n",
            "  Downloading opencv_python-4.6.0.66-cp36-abi3-manylinux_2_17_x86_64.manylinux2014_x86_64.whl.metadata (18 kB)\n",
            "Collecting packaging==21.3 (from -r stable-fashion/requirements.txt (line 44))\n",
            "  Downloading packaging-21.3-py3-none-any.whl.metadata (15 kB)\n",
            "Collecting pandas==1.4.4 (from -r stable-fashion/requirements.txt (line 45))\n",
            "  Downloading pandas-1.4.4-cp310-cp310-manylinux_2_17_x86_64.manylinux2014_x86_64.whl.metadata (12 kB)\n",
            "Collecting parso==0.8.3 (from -r stable-fashion/requirements.txt (line 46))\n",
            "  Downloading parso-0.8.3-py2.py3-none-any.whl.metadata (7.5 kB)\n",
            "Collecting pexpect==4.8.0 (from -r stable-fashion/requirements.txt (line 47))\n",
            "  Downloading pexpect-4.8.0-py2.py3-none-any.whl.metadata (2.2 kB)\n",
            "Requirement already satisfied: pickleshare==0.7.5 in /usr/local/lib/python3.10/dist-packages (from -r stable-fashion/requirements.txt (line 48)) (0.7.5)\n",
            "Collecting Pillow==9.2.0 (from -r stable-fashion/requirements.txt (line 49))\n",
            "  Downloading Pillow-9.2.0-cp310-cp310-manylinux_2_28_x86_64.whl.metadata (8.9 kB)\n",
            "Collecting prompt-toolkit==3.0.30 (from -r stable-fashion/requirements.txt (line 50))\n",
            "  Downloading prompt_toolkit-3.0.30-py3-none-any.whl.metadata (7.1 kB)\n",
            "Collecting protobuf==3.19.4 (from -r stable-fashion/requirements.txt (line 51))\n",
            "  Downloading protobuf-3.19.4-cp310-cp310-manylinux_2_17_x86_64.manylinux2014_x86_64.whl.metadata (806 bytes)\n",
            "Collecting psutil==5.9.1 (from -r stable-fashion/requirements.txt (line 52))\n",
            "  Downloading psutil-5.9.1-cp310-cp310-manylinux_2_12_x86_64.manylinux2010_x86_64.manylinux_2_17_x86_64.manylinux2014_x86_64.whl.metadata (21 kB)\n",
            "Requirement already satisfied: ptyprocess==0.7.0 in /usr/local/lib/python3.10/dist-packages (from -r stable-fashion/requirements.txt (line 53)) (0.7.0)\n",
            "Collecting pure-eval==0.2.2 (from -r stable-fashion/requirements.txt (line 54))\n",
            "  Downloading pure_eval-0.2.2-py3-none-any.whl.metadata (6.2 kB)\n",
            "Collecting pyarrow==9.0.0 (from -r stable-fashion/requirements.txt (line 55))\n",
            "  Downloading pyarrow-9.0.0-cp310-cp310-manylinux_2_17_x86_64.manylinux2014_x86_64.whl.metadata (3.0 kB)\n",
            "Collecting pyasn1==0.4.8 (from -r stable-fashion/requirements.txt (line 56))\n",
            "  Downloading pyasn1-0.4.8-py2.py3-none-any.whl.metadata (1.5 kB)\n",
            "Collecting pyasn1-modules==0.2.8 (from -r stable-fashion/requirements.txt (line 57))\n",
            "  Downloading pyasn1_modules-0.2.8-py2.py3-none-any.whl.metadata (1.9 kB)\n",
            "Collecting Pygments==2.13.0 (from -r stable-fashion/requirements.txt (line 58))\n",
            "  Downloading Pygments-2.13.0-py3-none-any.whl.metadata (1.6 kB)\n",
            "Collecting pyparsing==3.0.9 (from -r stable-fashion/requirements.txt (line 59))\n",
            "  Downloading pyparsing-3.0.9-py3-none-any.whl.metadata (4.2 kB)\n",
            "Requirement already satisfied: PySocks==1.7.1 in /usr/local/lib/python3.10/dist-packages (from -r stable-fashion/requirements.txt (line 60)) (1.7.1)\n",
            "Requirement already satisfied: python-dateutil==2.8.2 in /usr/local/lib/python3.10/dist-packages (from -r stable-fashion/requirements.txt (line 61)) (2.8.2)\n",
            "Collecting pytz==2022.2.1 (from -r stable-fashion/requirements.txt (line 62))\n",
            "  Downloading pytz-2022.2.1-py2.py3-none-any.whl.metadata (21 kB)\n",
            "Collecting PyYAML==6.0 (from -r stable-fashion/requirements.txt (line 63))\n",
            "  Downloading PyYAML-6.0-cp310-cp310-manylinux_2_5_x86_64.manylinux1_x86_64.manylinux_2_12_x86_64.manylinux2010_x86_64.whl.metadata (2.0 kB)\n",
            "Collecting regex==2022.8.17 (from -r stable-fashion/requirements.txt (line 64))\n",
            "  Downloading regex-2022.8.17-cp310-cp310-manylinux_2_17_x86_64.manylinux2014_x86_64.whl.metadata (40 kB)\n",
            "\u001b[2K     \u001b[90m━━━━━━━━━━━━━━━━━━━━━━━━━━━━━━━━━━━━━━━━\u001b[0m \u001b[32m40.8/40.8 kB\u001b[0m \u001b[31m3.7 MB/s\u001b[0m eta \u001b[36m0:00:00\u001b[0m\n",
            "\u001b[?25hCollecting requests==2.28.1 (from -r stable-fashion/requirements.txt (line 65))\n",
            "  Downloading requests-2.28.1-py3-none-any.whl.metadata (4.6 kB)\n",
            "Requirement already satisfied: requests-oauthlib==1.3.1 in /usr/local/lib/python3.10/dist-packages (from -r stable-fashion/requirements.txt (line 66)) (1.3.1)\n",
            "Collecting responses==0.18.0 (from -r stable-fashion/requirements.txt (line 67))\n",
            "  Downloading responses-0.18.0-py3-none-any.whl.metadata (29 kB)\n",
            "Requirement already satisfied: rsa==4.9 in /usr/local/lib/python3.10/dist-packages (from -r stable-fashion/requirements.txt (line 68)) (4.9)\n",
            "Requirement already satisfied: six==1.16.0 in /usr/local/lib/python3.10/dist-packages (from -r stable-fashion/requirements.txt (line 69)) (1.16.0)\n",
            "Collecting soupsieve==2.3.2.post1 (from -r stable-fashion/requirements.txt (line 70))\n",
            "  Downloading soupsieve-2.3.2.post1-py3-none-any.whl.metadata (5.7 kB)\n",
            "Collecting stack-data==0.5.0 (from -r stable-fashion/requirements.txt (line 71))\n",
            "  Downloading stack_data-0.5.0-py3-none-any.whl.metadata (18 kB)\n",
            "Collecting tensorboard==2.10.0 (from -r stable-fashion/requirements.txt (line 72))\n",
            "  Downloading tensorboard-2.10.0-py3-none-any.whl.metadata (1.9 kB)\n",
            "Collecting tensorboard-data-server==0.6.1 (from -r stable-fashion/requirements.txt (line 73))\n",
            "  Downloading tensorboard_data_server-0.6.1-py3-none-manylinux2010_x86_64.whl.metadata (1.1 kB)\n",
            "Collecting tensorboard-plugin-wit==1.8.1 (from -r stable-fashion/requirements.txt (line 74))\n",
            "  Downloading tensorboard_plugin_wit-1.8.1-py3-none-any.whl.metadata (873 bytes)\n",
            "Collecting tensorboardX==2.5.1 (from -r stable-fashion/requirements.txt (line 75))\n",
            "  Downloading tensorboardX-2.5.1-py2.py3-none-any.whl.metadata (5.2 kB)\n",
            "Collecting tokenizers==0.13.2 (from -r stable-fashion/requirements.txt (line 76))\n",
            "  Downloading tokenizers-0.13.2-cp310-cp310-manylinux_2_17_x86_64.manylinux2014_x86_64.whl.metadata (6.7 kB)\n",
            "Requirement already satisfied: toml==0.10.2 in /usr/local/lib/python3.10/dist-packages (from -r stable-fashion/requirements.txt (line 77)) (0.10.2)\n",
            "\u001b[31mERROR: Could not find a version that satisfies the requirement torch==1.13.0+cu116 (from versions: 1.11.0, 1.12.0, 1.12.1, 1.13.0, 1.13.1, 2.0.0, 2.0.1, 2.1.0, 2.1.1, 2.1.2, 2.2.0, 2.2.1, 2.2.2, 2.3.0, 2.3.1, 2.4.0)\u001b[0m\u001b[31m\n",
            "\u001b[0m\u001b[31mERROR: No matching distribution found for torch==1.13.0+cu116\u001b[0m\u001b[31m\n",
            "\u001b[0mCloning into 'cloth-segmentation'...\n",
            "remote: Enumerating objects: 10, done.\u001b[K\n",
            "remote: Total 10 (delta 0), reused 0 (delta 0), pack-reused 10 (from 1)\u001b[K\n",
            "Unpacking objects: 100% (10/10), 1.19 KiB | 611.00 KiB/s, done.\n",
            "Filtering content: 100% (2/2), 336.29 MiB | 40.21 MiB/s, done.\n"
          ]
        }
      ]
    },
    {
      "cell_type": "code",
      "source": [
        "!pip install diffusers"
      ],
      "metadata": {
        "colab": {
          "base_uri": "https://localhost:8080/"
        },
        "collapsed": true,
        "id": "sVmqor6ciLg3",
        "outputId": "a61661b6-6af2-46aa-af52-fffb0ab58d00"
      },
      "execution_count": 8,
      "outputs": [
        {
          "output_type": "stream",
          "name": "stdout",
          "text": [
            "Collecting diffusers\n",
            "  Downloading diffusers-0.29.2-py3-none-any.whl.metadata (19 kB)\n",
            "Requirement already satisfied: importlib-metadata in /usr/local/lib/python3.10/dist-packages (from diffusers) (8.2.0)\n",
            "Requirement already satisfied: filelock in /usr/local/lib/python3.10/dist-packages (from diffusers) (3.15.4)\n",
            "Requirement already satisfied: huggingface-hub>=0.23.2 in /usr/local/lib/python3.10/dist-packages (from diffusers) (0.23.5)\n",
            "Requirement already satisfied: numpy in /usr/local/lib/python3.10/dist-packages (from diffusers) (1.26.4)\n",
            "Requirement already satisfied: regex!=2019.12.17 in /usr/local/lib/python3.10/dist-packages (from diffusers) (2024.5.15)\n",
            "Requirement already satisfied: requests in /usr/local/lib/python3.10/dist-packages (from diffusers) (2.31.0)\n",
            "Requirement already satisfied: safetensors>=0.3.1 in /usr/local/lib/python3.10/dist-packages (from diffusers) (0.4.3)\n",
            "Requirement already satisfied: Pillow in /usr/local/lib/python3.10/dist-packages (from diffusers) (9.4.0)\n",
            "Requirement already satisfied: fsspec>=2023.5.0 in /usr/local/lib/python3.10/dist-packages (from huggingface-hub>=0.23.2->diffusers) (2024.6.1)\n",
            "Requirement already satisfied: packaging>=20.9 in /usr/local/lib/python3.10/dist-packages (from huggingface-hub>=0.23.2->diffusers) (24.1)\n",
            "Requirement already satisfied: pyyaml>=5.1 in /usr/local/lib/python3.10/dist-packages (from huggingface-hub>=0.23.2->diffusers) (6.0.1)\n",
            "Requirement already satisfied: tqdm>=4.42.1 in /usr/local/lib/python3.10/dist-packages (from huggingface-hub>=0.23.2->diffusers) (4.66.4)\n",
            "Requirement already satisfied: typing-extensions>=3.7.4.3 in /usr/local/lib/python3.10/dist-packages (from huggingface-hub>=0.23.2->diffusers) (4.12.2)\n",
            "Requirement already satisfied: zipp>=0.5 in /usr/local/lib/python3.10/dist-packages (from importlib-metadata->diffusers) (3.19.2)\n",
            "Requirement already satisfied: charset-normalizer<4,>=2 in /usr/local/lib/python3.10/dist-packages (from requests->diffusers) (3.3.2)\n",
            "Requirement already satisfied: idna<4,>=2.5 in /usr/local/lib/python3.10/dist-packages (from requests->diffusers) (3.7)\n",
            "Requirement already satisfied: urllib3<3,>=1.21.1 in /usr/local/lib/python3.10/dist-packages (from requests->diffusers) (2.0.7)\n",
            "Requirement already satisfied: certifi>=2017.4.17 in /usr/local/lib/python3.10/dist-packages (from requests->diffusers) (2024.7.4)\n",
            "Downloading diffusers-0.29.2-py3-none-any.whl (2.2 MB)\n",
            "\u001b[?25l   \u001b[90m━━━━━━━━━━━━━━━━━━━━━━━━━━━━━━━━━━━━━━━━\u001b[0m \u001b[32m0.0/2.2 MB\u001b[0m \u001b[31m?\u001b[0m eta \u001b[36m-:--:--\u001b[0m\r\u001b[2K   \u001b[91m━━━━━━━━━━━━━━━━━━━━━━━━━━━━━━━━━━━━━━━\u001b[0m\u001b[91m╸\u001b[0m \u001b[32m2.2/2.2 MB\u001b[0m \u001b[31m97.0 MB/s\u001b[0m eta \u001b[36m0:00:01\u001b[0m\r\u001b[2K   \u001b[90m━━━━━━━━━━━━━━━━━━━━━━━━━━━━━━━━━━━━━━━━\u001b[0m \u001b[32m2.2/2.2 MB\u001b[0m \u001b[31m55.9 MB/s\u001b[0m eta \u001b[36m0:00:00\u001b[0m\n",
            "\u001b[?25hInstalling collected packages: diffusers\n",
            "Successfully installed diffusers-0.29.2\n"
          ]
        }
      ]
    },
    {
      "cell_type": "code",
      "source": [
        "!pip install rembg"
      ],
      "metadata": {
        "collapsed": true,
        "colab": {
          "base_uri": "https://localhost:8080/"
        },
        "id": "p-qzLq5IiUKa",
        "outputId": "97f23912-836b-4acd-dcaf-6ebdbec2470b"
      },
      "execution_count": 10,
      "outputs": [
        {
          "output_type": "stream",
          "name": "stdout",
          "text": [
            "Collecting rembg\n",
            "  Downloading rembg-2.0.57-py3-none-any.whl.metadata (16 kB)\n",
            "Requirement already satisfied: jsonschema in /usr/local/lib/python3.10/dist-packages (from rembg) (4.23.0)\n",
            "Requirement already satisfied: numpy in /usr/local/lib/python3.10/dist-packages (from rembg) (1.26.4)\n",
            "Collecting onnxruntime (from rembg)\n",
            "  Downloading onnxruntime-1.18.1-cp310-cp310-manylinux_2_27_x86_64.manylinux_2_28_x86_64.whl.metadata (4.3 kB)\n",
            "Requirement already satisfied: opencv-python-headless in /usr/local/lib/python3.10/dist-packages (from rembg) (4.10.0.84)\n",
            "Requirement already satisfied: pillow in /usr/local/lib/python3.10/dist-packages (from rembg) (9.4.0)\n",
            "Requirement already satisfied: pooch in /usr/local/lib/python3.10/dist-packages (from rembg) (1.8.2)\n",
            "Collecting pymatting (from rembg)\n",
            "  Downloading PyMatting-1.1.12-py3-none-any.whl.metadata (7.4 kB)\n",
            "Requirement already satisfied: scikit-image in /usr/local/lib/python3.10/dist-packages (from rembg) (0.23.2)\n",
            "Requirement already satisfied: scipy in /usr/local/lib/python3.10/dist-packages (from rembg) (1.13.1)\n",
            "Requirement already satisfied: tqdm in /usr/local/lib/python3.10/dist-packages (from rembg) (4.66.4)\n",
            "Requirement already satisfied: attrs>=22.2.0 in /usr/local/lib/python3.10/dist-packages (from jsonschema->rembg) (23.2.0)\n",
            "Requirement already satisfied: jsonschema-specifications>=2023.03.6 in /usr/local/lib/python3.10/dist-packages (from jsonschema->rembg) (2023.12.1)\n",
            "Requirement already satisfied: referencing>=0.28.4 in /usr/local/lib/python3.10/dist-packages (from jsonschema->rembg) (0.35.1)\n",
            "Requirement already satisfied: rpds-py>=0.7.1 in /usr/local/lib/python3.10/dist-packages (from jsonschema->rembg) (0.19.1)\n",
            "Collecting coloredlogs (from onnxruntime->rembg)\n",
            "  Downloading coloredlogs-15.0.1-py2.py3-none-any.whl.metadata (12 kB)\n",
            "Requirement already satisfied: flatbuffers in /usr/local/lib/python3.10/dist-packages (from onnxruntime->rembg) (24.3.25)\n",
            "Requirement already satisfied: packaging in /usr/local/lib/python3.10/dist-packages (from onnxruntime->rembg) (24.1)\n",
            "Requirement already satisfied: protobuf in /usr/local/lib/python3.10/dist-packages (from onnxruntime->rembg) (3.20.3)\n",
            "Requirement already satisfied: sympy in /usr/local/lib/python3.10/dist-packages (from onnxruntime->rembg) (1.13.1)\n",
            "Requirement already satisfied: platformdirs>=2.5.0 in /usr/local/lib/python3.10/dist-packages (from pooch->rembg) (4.2.2)\n",
            "Requirement already satisfied: requests>=2.19.0 in /usr/local/lib/python3.10/dist-packages (from pooch->rembg) (2.31.0)\n",
            "Requirement already satisfied: numba!=0.49.0 in /usr/local/lib/python3.10/dist-packages (from pymatting->rembg) (0.60.0)\n",
            "Requirement already satisfied: networkx>=2.8 in /usr/local/lib/python3.10/dist-packages (from scikit-image->rembg) (3.3)\n",
            "Requirement already satisfied: imageio>=2.33 in /usr/local/lib/python3.10/dist-packages (from scikit-image->rembg) (2.34.2)\n",
            "Requirement already satisfied: tifffile>=2022.8.12 in /usr/local/lib/python3.10/dist-packages (from scikit-image->rembg) (2024.7.24)\n",
            "Requirement already satisfied: lazy-loader>=0.4 in /usr/local/lib/python3.10/dist-packages (from scikit-image->rembg) (0.4)\n",
            "Requirement already satisfied: llvmlite<0.44,>=0.43.0dev0 in /usr/local/lib/python3.10/dist-packages (from numba!=0.49.0->pymatting->rembg) (0.43.0)\n",
            "Requirement already satisfied: charset-normalizer<4,>=2 in /usr/local/lib/python3.10/dist-packages (from requests>=2.19.0->pooch->rembg) (3.3.2)\n",
            "Requirement already satisfied: idna<4,>=2.5 in /usr/local/lib/python3.10/dist-packages (from requests>=2.19.0->pooch->rembg) (3.7)\n",
            "Requirement already satisfied: urllib3<3,>=1.21.1 in /usr/local/lib/python3.10/dist-packages (from requests>=2.19.0->pooch->rembg) (2.0.7)\n",
            "Requirement already satisfied: certifi>=2017.4.17 in /usr/local/lib/python3.10/dist-packages (from requests>=2.19.0->pooch->rembg) (2024.7.4)\n",
            "Collecting humanfriendly>=9.1 (from coloredlogs->onnxruntime->rembg)\n",
            "  Downloading humanfriendly-10.0-py2.py3-none-any.whl.metadata (9.2 kB)\n",
            "Requirement already satisfied: mpmath<1.4,>=1.1.0 in /usr/local/lib/python3.10/dist-packages (from sympy->onnxruntime->rembg) (1.3.0)\n",
            "Downloading rembg-2.0.57-py3-none-any.whl (33 kB)\n",
            "Downloading onnxruntime-1.18.1-cp310-cp310-manylinux_2_27_x86_64.manylinux_2_28_x86_64.whl (6.8 MB)\n",
            "\u001b[2K   \u001b[90m━━━━━━━━━━━━━━━━━━━━━━━━━━━━━━━━━━━━━━━━\u001b[0m \u001b[32m6.8/6.8 MB\u001b[0m \u001b[31m87.4 MB/s\u001b[0m eta \u001b[36m0:00:00\u001b[0m\n",
            "\u001b[?25hDownloading PyMatting-1.1.12-py3-none-any.whl (52 kB)\n",
            "\u001b[2K   \u001b[90m━━━━━━━━━━━━━━━━━━━━━━━━━━━━━━━━━━━━━━━━\u001b[0m \u001b[32m53.0/53.0 kB\u001b[0m \u001b[31m5.5 MB/s\u001b[0m eta \u001b[36m0:00:00\u001b[0m\n",
            "\u001b[?25hDownloading coloredlogs-15.0.1-py2.py3-none-any.whl (46 kB)\n",
            "\u001b[2K   \u001b[90m━━━━━━━━━━━━━━━━━━━━━━━━━━━━━━━━━━━━━━━━\u001b[0m \u001b[32m46.0/46.0 kB\u001b[0m \u001b[31m4.8 MB/s\u001b[0m eta \u001b[36m0:00:00\u001b[0m\n",
            "\u001b[?25hDownloading humanfriendly-10.0-py2.py3-none-any.whl (86 kB)\n",
            "\u001b[2K   \u001b[90m━━━━━━━━━━━━━━━━━━━━━━━━━━━━━━━━━━━━━━━━\u001b[0m \u001b[32m86.8/86.8 kB\u001b[0m \u001b[31m9.4 MB/s\u001b[0m eta \u001b[36m0:00:00\u001b[0m\n",
            "\u001b[?25hInstalling collected packages: humanfriendly, pymatting, coloredlogs, onnxruntime, rembg\n",
            "Successfully installed coloredlogs-15.0.1 humanfriendly-10.0 onnxruntime-1.18.1 pymatting-1.1.12 rembg-2.0.57\n"
          ]
        }
      ]
    },
    {
      "cell_type": "code",
      "source": [
        "cd /content/stable-fashion/src/stable_fashion/"
      ],
      "metadata": {
        "id": "97bjRNI8QPVK",
        "colab": {
          "base_uri": "https://localhost:8080/"
        },
        "outputId": "531b55b2-5200-4941-dc1a-5237b3be42dc"
      },
      "execution_count": 6,
      "outputs": [
        {
          "output_type": "stream",
          "name": "stdout",
          "text": [
            "/content/stable-fashion/src/stable_fashion\n"
          ]
        }
      ]
    },
    {
      "cell_type": "code",
      "execution_count": 14,
      "metadata": {
        "id": "oBkBSJADypGH",
        "colab": {
          "base_uri": "https://localhost:8080/"
        },
        "outputId": "251e80ad-7bd1-44d6-fdd2-1d0c5a5461bb"
      },
      "outputs": [
        {
          "output_type": "stream",
          "name": "stdout",
          "text": [
            "2024-07-30 12:12:20.483985: E external/local_xla/xla/stream_executor/cuda/cuda_dnn.cc:9261] Unable to register cuDNN factory: Attempting to register factory for plugin cuDNN when one has already been registered\n",
            "2024-07-30 12:12:20.484044: E external/local_xla/xla/stream_executor/cuda/cuda_fft.cc:607] Unable to register cuFFT factory: Attempting to register factory for plugin cuFFT when one has already been registered\n",
            "2024-07-30 12:12:20.485322: E external/local_xla/xla/stream_executor/cuda/cuda_blas.cc:1515] Unable to register cuBLAS factory: Attempting to register factory for plugin cuBLAS when one has already been registered\n",
            "2024-07-30 12:12:21.601372: W tensorflow/compiler/tf2tensorrt/utils/py_utils.cc:38] TF-TRT Warning: Could not find TensorRT\n",
            "----checkpoints loaded from path: /content/cloth-segmentation/cloth_segm_u2net_latest.pth----\n",
            "safety_checker/model.safetensors not found\n",
            "Loading pipeline components...:   0% 0/7 [00:00<?, ?it/s]An error occurred while trying to fetch /root/.cache/huggingface/hub/models--runwayml--stable-diffusion-inpainting/snapshots/afeee10def38be19995784bcc811882409d066e5/vae: Error no file named diffusion_pytorch_model.safetensors found in directory /root/.cache/huggingface/hub/models--runwayml--stable-diffusion-inpainting/snapshots/afeee10def38be19995784bcc811882409d066e5/vae.\n",
            "Defaulting to unsafe serialization. Pass `allow_pickle=False` to raise an error instead.\n",
            "Loading pipeline components...:  14% 1/7 [00:00<00:00,  7.11it/s]An error occurred while trying to fetch /root/.cache/huggingface/hub/models--runwayml--stable-diffusion-inpainting/snapshots/afeee10def38be19995784bcc811882409d066e5/unet: Error no file named diffusion_pytorch_model.safetensors found in directory /root/.cache/huggingface/hub/models--runwayml--stable-diffusion-inpainting/snapshots/afeee10def38be19995784bcc811882409d066e5/unet.\n",
            "Defaulting to unsafe serialization. Pass `allow_pickle=False` to raise an error instead.\n",
            "Loading pipeline components...: 100% 7/7 [00:02<00:00,  3.15it/s]\n",
            "/usr/local/lib/python3.10/dist-packages/torch/nn/functional.py:3809: UserWarning: nn.functional.upsample is deprecated. Use nn.functional.interpolate instead.\n",
            "  warnings.warn(\"nn.functional.upsample is deprecated. Use nn.functional.interpolate instead.\")\n",
            "100% 25/25 [00:03<00:00,  6.74it/s]\n"
          ]
        }
      ],
      "source": [
        "!python main.py --image ../../assets/stockimage.jpeg --resolution 512  --prompt \"yellow shirt\"  --part upper  --num_steps 25   --output stoc.jpg\n"
      ]
    }
  ]
}